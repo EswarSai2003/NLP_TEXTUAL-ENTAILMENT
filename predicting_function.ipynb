{
 "cells": [
  {
   "cell_type": "markdown",
   "id": "e1014d84",
   "metadata": {},
   "source": [
    "# Defining function to predict gold label if sentence and premise are given"
   ]
  },
  {
   "cell_type": "code",
   "execution_count": 1,
   "id": "986094a0",
   "metadata": {},
   "outputs": [],
   "source": [
    "# !pip install transformers\n",
    "# !pip install sentencepiece"
   ]
  },
  {
   "cell_type": "code",
   "execution_count": 2,
   "id": "e8ae03d1",
   "metadata": {},
   "outputs": [
    {
     "name": "stderr",
     "output_type": "stream",
     "text": [
      "/Users/vkadava/anaconda3/envs/myenv/lib/python3.11/site-packages/tqdm/auto.py:21: TqdmWarning: IProgress not found. Please update jupyter and ipywidgets. See https://ipywidgets.readthedocs.io/en/stable/user_install.html\n",
      "  from .autonotebook import tqdm as notebook_tqdm\n"
     ]
    }
   ],
   "source": [
    "\n",
    "import torch\n",
    "from transformers import BertForSequenceClassification\n",
    "from transformers import BertTokenizer\n"
   ]
  },
  {
   "cell_type": "code",
   "execution_count": 3,
   "id": "83e50896",
   "metadata": {},
   "outputs": [],
   "source": [
    "import preprocessing_functions as pf"
   ]
  },
  {
   "cell_type": "code",
   "execution_count": 4,
   "id": "e01dc3d9",
   "metadata": {},
   "outputs": [],
   "source": [
    "#defining function to predict gold_label when premise and hypothesis are given allong with model_path where it is stored\n",
    "def predict(model_path, premise, hypothesis):\n",
    "    \n",
    "    premise = pf.clean_text(premise)\n",
    "    hypothesis = pf.clean_text(hypothesis)\n",
    "    \n",
    "    tokenizer = BertTokenizer.from_pretrained('bert-base-uncased', do_lower_case=True)\n",
    "    premise_id = tokenizer.encode(premise, add_special_tokens=False)\n",
    "    hypothesis_id = tokenizer.encode(hypothesis, add_special_tokens=False)\n",
    "    pair_token_ids = [tokenizer.cls_token_id] + premise_id + [tokenizer.sep_token_id] + hypothesis_id + [tokenizer.sep_token_id]\n",
    "    segment_ids = torch.tensor([0] * (len(premise_id) + 2) + [1] * (len(hypothesis_id) + 1)).unsqueeze(0)  # sentence 0 and sentence 1\n",
    "    attention_mask_ids = torch.tensor([1] * len(pair_token_ids)).unsqueeze(0)  # mask padded values\n",
    "\n",
    "    checkpoint = torch.load(model_path, map_location=torch.device('cpu'))\n",
    "    model = BertForSequenceClassification.from_pretrained(\"bert-base-uncased\", num_labels=3)\n",
    "    model.load_state_dict(checkpoint['model_state_dict'])\n",
    "    model.eval()\n",
    "    \n",
    "    with torch.no_grad():\n",
    "        logits = model(torch.tensor(pair_token_ids).unsqueeze(0), token_type_ids=segment_ids, attention_mask=attention_mask_ids)[0]\n",
    "        prediction = torch.argmax(logits).item()\n",
    "    class_names = ['contradiction','Emtailment','Neutral']\n",
    "    output = class_names[prediction]\n",
    "    return output\n"
   ]
  },
  {
   "cell_type": "code",
   "execution_count": 5,
   "id": "21478b6a",
   "metadata": {},
   "outputs": [
    {
     "name": "stderr",
     "output_type": "stream",
     "text": [
      "Downloading model.safetensors: 100%|█████████| 440M/440M [01:32<00:00, 4.75MB/s]\n",
      "Some weights of the model checkpoint at bert-base-uncased were not used when initializing BertForSequenceClassification: ['cls.predictions.transform.dense.weight', 'cls.seq_relationship.weight', 'cls.predictions.transform.LayerNorm.weight', 'cls.seq_relationship.bias', 'cls.predictions.bias', 'cls.predictions.transform.LayerNorm.bias', 'cls.predictions.transform.dense.bias']\n",
      "- This IS expected if you are initializing BertForSequenceClassification from the checkpoint of a model trained on another task or with another architecture (e.g. initializing a BertForSequenceClassification model from a BertForPreTraining model).\n",
      "- This IS NOT expected if you are initializing BertForSequenceClassification from the checkpoint of a model that you expect to be exactly identical (initializing a BertForSequenceClassification model from a BertForSequenceClassification model).\n",
      "Some weights of BertForSequenceClassification were not initialized from the model checkpoint at bert-base-uncased and are newly initialized: ['classifier.weight', 'classifier.bias']\n",
      "You should probably TRAIN this model on a down-stream task to be able to use it for predictions and inference.\n"
     ]
    },
    {
     "data": {
      "text/plain": [
       "'Neutral'"
      ]
     },
     "execution_count": 5,
     "metadata": {},
     "output_type": "execute_result"
    }
   ],
   "source": [
    "#Taking pair of sentences and predicting the relationship between them\n",
    "predict('/Users/vkadava/Desktop/PROJECT3/saved_model.pth',\"A woman with a green headscarf, blue shirt and a very big grin.\",\"The woman is young.\")"
   ]
  }
 ],
 "metadata": {
  "kernelspec": {
   "display_name": "Python 3 (ipykernel)",
   "language": "python",
   "name": "python3"
  },
  "language_info": {
   "codemirror_mode": {
    "name": "ipython",
    "version": 3
   },
   "file_extension": ".py",
   "mimetype": "text/x-python",
   "name": "python",
   "nbconvert_exporter": "python",
   "pygments_lexer": "ipython3",
   "version": "3.11.3"
  }
 },
 "nbformat": 4,
 "nbformat_minor": 5
}
