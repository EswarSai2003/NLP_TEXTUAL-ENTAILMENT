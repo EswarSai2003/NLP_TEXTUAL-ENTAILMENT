{
 "cells": [
  {
   "cell_type": "code",
   "execution_count": 1,
   "id": "41c1f8e8",
   "metadata": {},
   "outputs": [
    {
     "name": "stdout",
     "output_type": "stream",
     "text": [
      "Requirement already satisfied: transformers in /Users/vkadava/anaconda3/lib/python3.10/site-packages (4.24.0)\n",
      "Requirement already satisfied: filelock in /Users/vkadava/anaconda3/lib/python3.10/site-packages (from transformers) (3.9.0)\n",
      "Requirement already satisfied: requests in /Users/vkadava/anaconda3/lib/python3.10/site-packages (from transformers) (2.28.1)\n",
      "Requirement already satisfied: regex!=2019.12.17 in /Users/vkadava/anaconda3/lib/python3.10/site-packages (from transformers) (2022.7.9)\n",
      "Requirement already satisfied: packaging>=20.0 in /Users/vkadava/anaconda3/lib/python3.10/site-packages (from transformers) (22.0)\n",
      "Requirement already satisfied: huggingface-hub<1.0,>=0.10.0 in /Users/vkadava/anaconda3/lib/python3.10/site-packages (from transformers) (0.10.1)\n",
      "Requirement already satisfied: numpy>=1.17 in /Users/vkadava/anaconda3/lib/python3.10/site-packages (from transformers) (1.23.5)\n",
      "Requirement already satisfied: pyyaml>=5.1 in /Users/vkadava/anaconda3/lib/python3.10/site-packages (from transformers) (6.0)\n",
      "Requirement already satisfied: tokenizers!=0.11.3,<0.14,>=0.11.1 in /Users/vkadava/anaconda3/lib/python3.10/site-packages (from transformers) (0.11.4)\n",
      "Requirement already satisfied: tqdm>=4.27 in /Users/vkadava/anaconda3/lib/python3.10/site-packages (from transformers) (4.64.1)\n",
      "Requirement already satisfied: typing-extensions>=3.7.4.3 in /Users/vkadava/anaconda3/lib/python3.10/site-packages (from huggingface-hub<1.0,>=0.10.0->transformers) (4.4.0)\n",
      "Requirement already satisfied: charset-normalizer<3,>=2 in /Users/vkadava/anaconda3/lib/python3.10/site-packages (from requests->transformers) (2.0.4)\n",
      "Requirement already satisfied: urllib3<1.27,>=1.21.1 in /Users/vkadava/anaconda3/lib/python3.10/site-packages (from requests->transformers) (1.26.14)\n",
      "Requirement already satisfied: idna<4,>=2.5 in /Users/vkadava/anaconda3/lib/python3.10/site-packages (from requests->transformers) (3.4)\n",
      "Requirement already satisfied: certifi>=2017.4.17 in /Users/vkadava/anaconda3/lib/python3.10/site-packages (from requests->transformers) (2022.12.7)\n",
      "Requirement already satisfied: sentencepiece in /Users/vkadava/anaconda3/lib/python3.10/site-packages (0.1.97)\n"
     ]
    },
    {
     "name": "stderr",
     "output_type": "stream",
     "text": [
      "/Users/vkadava/opt/anaconda3/envs/Hello_World/lib/python3.9/site-packages/tqdm/auto.py:22: TqdmWarning: IProgress not found. Please update jupyter and ipywidgets. See https://ipywidgets.readthedocs.io/en/stable/user_install.html\n",
      "  from .autonotebook import tqdm as notebook_tqdm\n",
      "2023-04-13 11:17:11.748409: I tensorflow/core/platform/cpu_feature_guard.cc:193] This TensorFlow binary is optimized with oneAPI Deep Neural Network Library (oneDNN) to use the following CPU instructions in performance-critical operations:  SSE4.1 SSE4.2\n",
      "To enable them in other operations, rebuild TensorFlow with the appropriate compiler flags.\n"
     ]
    }
   ],
   "source": [
    "#importing files containing functions to perform our tasks\n",
    "from pickling_functions import load_pickle\n",
    "import func_model"
   ]
  },
  {
   "cell_type": "code",
   "execution_count": 2,
   "id": "00313d82",
   "metadata": {},
   "outputs": [],
   "source": [
    "#Importing essential libraries\n",
    "from transformers import BertForSequenceClassification, AdamW\n",
    "import torch"
   ]
  },
  {
   "cell_type": "code",
   "execution_count": 3,
   "id": "ad2ae732",
   "metadata": {},
   "outputs": [
    {
     "name": "stderr",
     "output_type": "stream",
     "text": [
      "Some weights of the model checkpoint at bert-base-uncased were not used when initializing BertForSequenceClassification: ['cls.predictions.transform.dense.weight', 'cls.seq_relationship.bias', 'cls.predictions.transform.LayerNorm.weight', 'cls.predictions.bias', 'cls.predictions.transform.dense.bias', 'cls.predictions.decoder.weight', 'cls.seq_relationship.weight', 'cls.predictions.transform.LayerNorm.bias']\n",
      "- This IS expected if you are initializing BertForSequenceClassification from the checkpoint of a model trained on another task or with another architecture (e.g. initializing a BertForSequenceClassification model from a BertForPreTraining model).\n",
      "- This IS NOT expected if you are initializing BertForSequenceClassification from the checkpoint of a model that you expect to be exactly identical (initializing a BertForSequenceClassification model from a BertForSequenceClassification model).\n",
      "Some weights of BertForSequenceClassification were not initialized from the model checkpoint at bert-base-uncased and are newly initialized: ['classifier.bias', 'classifier.weight']\n",
      "You should probably TRAIN this model on a down-stream task to be able to use it for predictions and inference.\n"
     ]
    }
   ],
   "source": [
    "#defining the pre trained model to train with our dataset\n",
    "model = BertForSequenceClassification.from_pretrained(\"bert-base-uncased\", num_labels=3)\n"
   ]
  },
  {
   "cell_type": "code",
   "execution_count": 4,
   "id": "b7524e87",
   "metadata": {},
   "outputs": [
    {
     "name": "stdout",
     "output_type": "stream",
     "text": [
      "cpu\n"
     ]
    }
   ],
   "source": [
    "device = torch.device(\"cuda:0\" if torch.cuda.is_available() else \"cpu\")\n",
    "model.to(device)\n",
    "print(device)"
   ]
  },
  {
   "cell_type": "code",
   "execution_count": 5,
   "id": "4ddf8a01",
   "metadata": {},
   "outputs": [
    {
     "name": "stdout",
     "output_type": "stream",
     "text": [
      "The model has 109,484,547 trainable parameters\n"
     ]
    }
   ],
   "source": [
    "def count_parameters(model):\n",
    "    return sum(p.numel() for p in model.parameters() if p.requires_grad)\n",
    "\n",
    "print(f'The model has {count_parameters(model):,} trainable parameters')"
   ]
  },
  {
   "cell_type": "code",
   "execution_count": 6,
   "id": "273d43d9",
   "metadata": {},
   "outputs": [],
   "source": [
    "param_optimizer = list(model.named_parameters())\n",
    "no_decay = ['bias', 'gamma', 'beta']\n",
    "optimizer_grouped_parameters = [\n",
    "    {'params': [p for n, p in param_optimizer if not any(nd in n for nd in no_decay)],\n",
    "     'weight_decay_rate': 0.01},\n",
    "    {'params': [p for n, p in param_optimizer if any(nd in n for nd in no_decay)],\n",
    "     'weight_decay_rate': 0.0}\n",
    "]"
   ]
  },
  {
   "cell_type": "code",
   "execution_count": 7,
   "id": "ffd24575",
   "metadata": {},
   "outputs": [
    {
     "name": "stderr",
     "output_type": "stream",
     "text": [
      "/Users/vkadava/opt/anaconda3/envs/Hello_World/lib/python3.9/site-packages/transformers/optimization.py:306: FutureWarning: This implementation of AdamW is deprecated and will be removed in a future version. Use the PyTorch implementation torch.optim.AdamW instead, or set `no_deprecation_warning=True` to disable this warning\n",
      "  warnings.warn(\n"
     ]
    }
   ],
   "source": [
    "# This variable contains all of the hyperparemeter information our training loop needs and used for optimization\n",
    "optimizer = AdamW(optimizer_grouped_parameters, lr=2e-5, correct_bias=False)"
   ]
  },
  {
   "cell_type": "code",
   "execution_count": 8,
   "id": "c9d6321e",
   "metadata": {},
   "outputs": [],
   "source": [
    "base_path = '/Users/vkadava/Desktop/PROJECT3/'"
   ]
  },
  {
   "cell_type": "code",
   "execution_count": 9,
   "id": "9560ed76",
   "metadata": {},
   "outputs": [],
   "source": [
    "# load preprocessed training and validation data from pickle file\n",
    "\n",
    "train = load_pickle(base_path + 'train_data')\n",
    "dev = load_pickle(base_path + 'dev_data')"
   ]
  },
  {
   "cell_type": "code",
   "execution_count": 10,
   "id": "e1b3d38b",
   "metadata": {},
   "outputs": [],
   "source": [
    "#feature extraction:\n",
    "train_features = func_model.loading_data(train)\n",
    "dev_features = func_model.loading_data(dev)\n"
   ]
  },
  {
   "cell_type": "code",
   "execution_count": 11,
   "id": "a79df706",
   "metadata": {},
   "outputs": [],
   "source": [
    "#getting data in batch loaders:\n",
    "train_loader = func_model.get_data_loaders(train_features)\n",
    "dev_loader = func_model.get_data_loaders(dev_features)\n",
    "  "
   ]
  },
  {
   "cell_type": "code",
   "execution_count": 12,
   "id": "91fc2610",
   "metadata": {},
   "outputs": [],
   "source": [
    "model_save_path = base_path + 'saved_model.pth'"
   ]
  },
  {
   "cell_type": "code",
   "execution_count": 13,
   "id": "1da28a2e",
   "metadata": {},
   "outputs": [],
   "source": [
    "func_model.training(model, train_loader,dev_loader, optimizer, model_save_path)\n",
    "#Note:I define training function in such a way that I need to run this cell 4 times ,one for each epoch \n",
    "#completion and it updates the model which is in path described above,as my cpu is not sufficient to train\n",
    "#all at once and runtime is getting stopped\n",
    "#After execution of this cell our trained model will successfully gets saved as saved_model.pth file in PROJECT3 directory"
   ]
  },
  {
   "cell_type": "code",
   "execution_count": 14,
   "id": "750a0953",
   "metadata": {},
   "outputs": [],
   "source": [
    "\n",
    " #Load the checkpoint file from saved model\n",
    "checkpoint = torch.load(model_save_path,map_location=torch.device('cpu'))\n",
    "# Extract the lists of losses and accuracies\n",
    "train_losses = checkpoint['train_losses']\n",
    "val_losses = checkpoint['val_losses']\n",
    "train_acc = checkpoint['train_accuracies']\n",
    "val_acc = checkpoint['val_accuracies']\n",
    "#appending values of losses,acuuracies for 4th epoch as model not saved them due to increase in validation loss:\n",
    "val_losses.append(0.3535)\n",
    "train_losses.append(0.2374)\n",
    "val_acc.append(0.8830)\n",
    "train_acc.append(0.9177)"
   ]
  },
  {
   "cell_type": "code",
   "execution_count": 15,
   "id": "5f1de7ed",
   "metadata": {},
   "outputs": [
    {
     "data": {
      "image/png": "[encoded data removed]",
      "text/plain": [
       "<Figure size 640x480 with 1 Axes>"
      ]
     },
     "metadata": {},
     "output_type": "display_data"
    }
   ],
   "source": [
    "# Plot the losses and accuracies\n",
    "func_model.Loss_plots(train_losses, val_losses)\n"
   ]
  },
  {
   "cell_type": "code",
   "execution_count": 16,
   "id": "daacba3c",
   "metadata": {},
   "outputs": [
    {
     "data": {
      "image/png": "[encoded data removed]",
      "text/plain": [
       "<Figure size 640x480 with 1 Axes>"
      ]
     },
     "metadata": {},
     "output_type": "display_data"
    }
   ],
   "source": [
    "func_model.Accuracy_plots(train_acc, val_acc)"
   ]
  },
  {
   "cell_type": "code",
   "execution_count": 17,
   "id": "43f22e4c",
   "metadata": {},
   "outputs": [],
   "source": [
    "#testing on snli datset:\n",
    "# load preprocessed training and validation data from pickle file\n",
    "\n",
    "test = load_pickle(base_path + 'test_data')"
   ]
  },
  {
   "cell_type": "code",
   "execution_count": 18,
   "id": "24d88f30",
   "metadata": {},
   "outputs": [],
   "source": [
    "#feature extraction:\n",
    "test_features = func_model.loading_data(test)"
   ]
  },
  {
   "cell_type": "code",
   "execution_count": 19,
   "id": "c3a4d7db",
   "metadata": {},
   "outputs": [],
   "source": [
    "#getting data in batch loaders:\n",
    "test_loader = func_model.get_data_loaders(test_features)"
   ]
  },
  {
   "cell_type": "code",
   "execution_count": 20,
   "id": "bfa549f1",
   "metadata": {},
   "outputs": [
    {
     "name": "stderr",
     "output_type": "stream",
     "text": [
      "Some weights of the model checkpoint at bert-base-uncased were not used when initializing BertForSequenceClassification: ['cls.predictions.transform.dense.weight', 'cls.seq_relationship.bias', 'cls.predictions.transform.LayerNorm.weight', 'cls.predictions.bias', 'cls.predictions.transform.dense.bias', 'cls.predictions.decoder.weight', 'cls.seq_relationship.weight', 'cls.predictions.transform.LayerNorm.bias']\n",
      "- This IS expected if you are initializing BertForSequenceClassification from the checkpoint of a model trained on another task or with another architecture (e.g. initializing a BertForSequenceClassification model from a BertForPreTraining model).\n",
      "- This IS NOT expected if you are initializing BertForSequenceClassification from the checkpoint of a model that you expect to be exactly identical (initializing a BertForSequenceClassification model from a BertForSequenceClassification model).\n",
      "Some weights of BertForSequenceClassification were not initialized from the model checkpoint at bert-base-uncased and are newly initialized: ['classifier.bias', 'classifier.weight']\n",
      "You should probably TRAIN this model on a down-stream task to be able to use it for predictions and inference.\n"
     ]
    },
    {
     "name": "stdout",
     "output_type": "stream",
     "text": [
      "Test Loss: 0.3691 | Test Acc: 0.8751\n"
     ]
    }
   ],
   "source": [
    "func_model.testing(model_save_path, test_loader)"
   ]
  }
 ],
 "metadata": {
  "kernelspec": {
   "display_name": "Python 3 (ipykernel)",
   "language": "python",
   "name": "python3"
  },
  "language_info": {
   "codemirror_mode": {
    "name": "ipython",
    "version": 3
   },
   "file_extension": ".py",
   "mimetype": "text/x-python",
   "name": "python",
   "nbconvert_exporter": "python",
   "pygments_lexer": "ipython3",
   "version": "3.11.3"
  }
 },
 "nbformat": 4,
 "nbformat_minor": 5
}
